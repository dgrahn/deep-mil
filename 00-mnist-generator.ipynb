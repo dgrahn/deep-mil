{
 "cells": [
  {
   "cell_type": "markdown",
   "id": "c1933552",
   "metadata": {},
   "source": [
    "# MNIST Generator\n",
    "\n",
    "We want the MIL datasets to be identical from run to run. To do this, we'll produce CSVs with bag indices and labels. This notebook does it for MNIST."
   ]
  },
  {
   "cell_type": "code",
   "execution_count": 1,
   "id": "a5deb7c3",
   "metadata": {},
   "outputs": [],
   "source": [
    "import numpy as np\n",
    "import matplotlib.pyplot as plt\n",
    "import pandas as pd\n",
    "import random\n",
    "import sklearn\n",
    "from tensorflow.keras.datasets import mnist\n",
    "\n",
    "# Set random seeds for consistency\n",
    "random.seed(42)\n",
    "np.random.seed(42)"
   ]
  },
  {
   "cell_type": "code",
   "execution_count": 2,
   "id": "ed48c1df",
   "metadata": {},
   "outputs": [
    {
     "name": "stdout",
     "output_type": "stream",
     "text": [
      "(60000, 28, 28) (10000, 28, 28) (60000,) (10000,)\n"
     ]
    },
    {
     "data": {
      "image/png": "[encoded data removed]",
      "text/plain": [
       "<Figure size 432x288 with 1 Axes>"
      ]
     },
     "metadata": {
      "needs_background": "light"
     },
     "output_type": "display_data"
    }
   ],
   "source": [
    "(x_train, y_train), (x_test, y_test) = mnist.load_data()\n",
    "print(x_train.shape, x_test.shape, y_train.shape, y_test.shape)\n",
    "\n",
    "plt.hist(y_train)\n",
    "plt.hist(y_test)\n",
    "plt.legend(['Train', 'Test'])\n",
    "plt.title('Y Values')\n",
    "plt.show()\n",
    "plt.close()"
   ]
  },
  {
   "cell_type": "code",
   "execution_count": 3,
   "id": "e05aaf84",
   "metadata": {},
   "outputs": [
    {
     "name": "stdout",
     "output_type": "stream",
     "text": [
      "train: pos=4929, neg=8365, %=37.08\n",
      "test : pos=831, neg=1402, %=37.21\n"
     ]
    }
   ],
   "source": [
    "def pad(arr, max_size):\n",
    "  p = np.empty(max_size - arr.shape[0])\n",
    "  p.fill(-1)\n",
    "  return np.concatenate([arr, p])\n",
    "\n",
    "def bag_generator(x, y, get_label, min_size=3, max_size=7):\n",
    "  x_shuf, y_shuf = sklearn.utils.shuffle(np.arange(x.shape[0]), y)\n",
    "\n",
    "  x_bags = []\n",
    "  y_bags = []\n",
    "  \n",
    "  i = 0\n",
    "  \n",
    "  while (x_shuf.shape[0] - i) > max_size:\n",
    "    size = random.randrange(min_size, min(max_size, x_shuf.shape[0] - i - min_size))\n",
    "    x_bags.append(pad(x_shuf[i:i + size], max_size))\n",
    "    y_bags.append(get_label(y_shuf[i:i + size]))\n",
    "    i += size\n",
    "\n",
    "  x_bags.append(pad(x_shuf[i:], max_size))\n",
    "  y_bags.append(get_label(y_shuf[i:]))\n",
    "\n",
    "  return np.array(x_bags).astype(int), np.array(y_bags).astype(int)\n",
    "\n",
    "def contains_zero(labels):\n",
    "  return np.any(np.array(labels) == 0).astype(int)\n",
    "\n",
    "\n",
    "x_train_bags, y_train_bags = bag_generator(x_train, y_train, contains_zero)\n",
    "x_test_bags, y_test_bags = bag_generator(x_test, y_test, contains_zero)\n",
    "\n",
    "\n",
    "print(f'train: pos={y_train_bags.sum()}, neg={y_train_bags.shape[0] - y_train_bags.sum()}, %={y_train_bags.sum() / y_train_bags.shape[0] * 100:.2f}')\n",
    "print(f'test : pos={y_test_bags.sum()}, neg={y_test_bags.shape[0] - y_test_bags.sum()}, %={y_test_bags.sum() / y_test_bags.shape[0] * 100:.2f}')"
   ]
  },
  {
   "cell_type": "code",
   "execution_count": 4,
   "id": "0bfcf29e",
   "metadata": {},
   "outputs": [],
   "source": [
    "train = np.concatenate([y_train_bags[:, np.newaxis], x_train_bags], axis=1)\n",
    "test = np.concatenate([y_test_bags[:, np.newaxis], x_test_bags], axis=1)\n",
    "\n",
    "columns = ['y'] + [ f'x{i}' for i in range(train.shape[1] - 1)]\n",
    "\n",
    "train_df = pd.DataFrame(train, columns=columns)\n",
    "test_df = pd.DataFrame(test, columns=columns)\n",
    "\n",
    "train_df.to_csv('data/mnist_train.csv', index=False)\n",
    "test_df.to_csv('data/mnist_test.csv', index=False)"
   ]
  }
 ],
 "metadata": {
  "kernelspec": {
   "display_name": "Python 3",
   "language": "python",
   "name": "python3"
  },
  "language_info": {
   "codemirror_mode": {
    "name": "ipython",
    "version": 3
   },
   "file_extension": ".py",
   "mimetype": "text/x-python",
   "name": "python",
   "nbconvert_exporter": "python",
   "pygments_lexer": "ipython3",
   "version": "3.8.8"
  }
 },
 "nbformat": 4,
 "nbformat_minor": 5
}
