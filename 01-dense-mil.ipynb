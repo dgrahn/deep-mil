{
 "cells": [
  {
   "cell_type": "markdown",
   "id": "141605b5",
   "metadata": {},
   "source": [
    "# Max Pool MIL\n",
    "\n",
    "Now we're going to load and train and MIL network on MNIST (presence of 0 = positive bag)."
   ]
  },
  {
   "cell_type": "code",
   "execution_count": 1,
   "id": "184d20ef",
   "metadata": {},
   "outputs": [
    {
     "name": "stdout",
     "output_type": "stream",
     "text": [
      "1 Physical GPUs, 1 Logical GPUs\n",
      "2.4.1\n"
     ]
    }
   ],
   "source": [
    "import tensorflow as tf\n",
    "from tensorflow.keras import layers\n",
    "import utils\n",
    "from noisy_and import dense\n",
    "import mil_benchmarks\n",
    "\n",
    "N_CLASSES = 2\n",
    "MAX_BAG = 7\n",
    "\n",
    "utils.gpu_fix()\n",
    "\n",
    "tf.random.set_seed(42)\n",
    "print(tf.__version__)"
   ]
  },
  {
   "cell_type": "code",
   "execution_count": 2,
   "id": "f8f4fa73",
   "metadata": {},
   "outputs": [
    {
     "name": "stdout",
     "output_type": "stream",
     "text": [
      "Model: \"sequential\"\n",
      "_________________________________________________________________\n",
      "Layer (type)                 Output Shape              Param #   \n",
      "=================================================================\n",
      "time_distributed (TimeDistri (None, 7, 28, 28, 64)     320       \n",
      "_________________________________________________________________\n",
      "time_distributed_1 (TimeDist (None, 7, 14, 14, 64)     0         \n",
      "_________________________________________________________________\n",
      "time_distributed_2 (TimeDist (None, 7, 12, 12, 32)     18464     \n",
      "_________________________________________________________________\n",
      "time_distributed_3 (TimeDist (None, 7, 6, 6, 32)       0         \n",
      "_________________________________________________________________\n",
      "time_distributed_4 (TimeDist (None, 7, 6, 6, 32)       0         \n",
      "_________________________________________________________________\n",
      "time_distributed_5 (TimeDist (None, 7, 1152)           0         \n",
      "_________________________________________________________________\n",
      "time_distributed_6 (TimeDist (None, 7, 256)            295168    \n",
      "_________________________________________________________________\n",
      "time_distributed_7 (TimeDist (None, 7, 256)            0         \n",
      "_________________________________________________________________\n",
      "time_distributed_8 (TimeDist (None, 7, 2)              514       \n",
      "_________________________________________________________________\n",
      "flatten_1 (Flatten)          (None, 14)                0         \n",
      "_________________________________________________________________\n",
      "dense_2 (Dense)              (None, 2)                 30        \n",
      "=================================================================\n",
      "Total params: 314,496\n",
      "Trainable params: 314,496\n",
      "Non-trainable params: 0\n",
      "_________________________________________________________________\n",
      "None\n"
     ]
    }
   ],
   "source": [
    "def define_model(shape=(28, 28, 1)):\n",
    "  model = tf.keras.Sequential([\n",
    "    layers.Input((MAX_BAG,) + shape),\n",
    "    *utils.baseline_layers(shape, N_CLASSES),\n",
    "    layers.Flatten(),\n",
    "    layers.Dense(N_CLASSES, activation='softmax'),\n",
    "  ])\n",
    "\n",
    "  utils.compile(model, N_CLASSES)\n",
    "  return model\n",
    "\n",
    "print(define_model().summary())"
   ]
  },
  {
   "cell_type": "code",
   "execution_count": null,
   "id": "9e64b1fb",
   "metadata": {},
   "outputs": [],
   "source": [
    "standard_mnist   = utils.evaluate_all(define_model, 'Fully-Connected', mil_benchmarks.standard.mnist)\n",
    "standard_fashion = utils.evaluate_all(define_model, 'Fully-Connected', mil_benchmarks.standard.fashion)\n",
    "standard_cifar10 = utils.evaluate_all(define_model, 'Fully-Connected', mil_benchmarks.standard.cifar10, (32, 32, 3))"
   ]
  },
  {
   "cell_type": "code",
   "execution_count": null,
   "id": "5e262f79-52d6-4a3b-ae7e-b50f86ba4c70",
   "metadata": {},
   "outputs": [],
   "source": [
    "presence_mnist   = utils.evaluate_all(define_model, 'Fully-Connected', mil_benchmarks.presence.mnist)\n",
    "presence_fashion = utils.evaluate_all(define_model, 'Fully-Connected', mil_benchmarks.presence.fashion)\n",
    "presence_cifar10 = utils.evaluate_all(define_model, 'Fully-Connected', mil_benchmarks.presence.cifar10, (32, 32, 3))"
   ]
  },
  {
   "cell_type": "code",
   "execution_count": null,
   "id": "c4478af0-637a-4ce2-ae3c-e37921a11ffb",
   "metadata": {},
   "outputs": [],
   "source": [
    "absence_mnist   = utils.evaluate_all(define_model, 'Fully-Connected', mil_benchmarks.absence.mnist)\n",
    "absence_fashion = utils.evaluate_all(define_model, 'Fully-Connected', mil_benchmarks.absence.fashion)\n",
    "absence_cifar10 = utils.evaluate_all(define_model, 'Fully-Connected', mil_benchmarks.absence.cifar10, (32, 32, 3))"
   ]
  },
  {
   "cell_type": "code",
   "execution_count": null,
   "id": "2235aeeb",
   "metadata": {},
   "outputs": [],
   "source": [
    "complex_fashion = utils.evaluate_all(define_model, 'Fully-Connected', mil_benchmarks.complex.fashion)"
   ]
  },
  {
   "cell_type": "code",
   "execution_count": null,
   "id": "1673e7c8",
   "metadata": {},
   "outputs": [],
   "source": [
    "utils.plot_histories(standard_mnist, title='Standard MNIST', filename='img/dense-standard-mnist.jpg')\n",
    "utils.plot_histories(standard_fashion, title='Standard Fashion', filename='img/dense-standard-fashion.jpg')\n",
    "utils.plot_histories(standard_cifar10, title='Standard CIFAR-10', filename='img/dense-standard-cifar10.jpg')\n",
    "\n",
    "utils.plot_histories(presence_mnist, title='Presence MNIST', filename='img/dense-presence-mnist.jpg')\n",
    "utils.plot_histories(presence_fashion, title='Presence Fashion', filename='img/dense-presence-fashion.jpg')\n",
    "utils.plot_histories(presence_cifar10, title='Presence CIFAR-10', filename='img/dense-presence-cifar10.jpg')\n",
    "\n",
    "utils.plot_histories(absence_mnist, title='Absence MNIST', filename='img/dense-absence-mnist.jpg')\n",
    "utils.plot_histories(absence_fashion, title='Absence Fashion', filename='img/dense-absence-fashion.jpg')\n",
    "utils.plot_histories(absence_cifar10, title='Absence CIFAR-10', filename='img/dense-absence-cifar10.jpg')\n",
    "\n",
    "utils.plot_histories(complex_fashion, title='Complex Fashion', filename='img/dense-complex-fashion.jpg')"
   ]
  }
 ],
 "metadata": {
  "kernelspec": {
   "display_name": "Python 3",
   "language": "python",
   "name": "python3"
  },
  "language_info": {
   "codemirror_mode": {
    "name": "ipython",
    "version": 3
   },
   "file_extension": ".py",
   "mimetype": "text/x-python",
   "name": "python",
   "nbconvert_exporter": "python",
   "pygments_lexer": "ipython3",
   "version": "3.8.8"
  }
 },
 "nbformat": 4,
 "nbformat_minor": 5
}
