{
 "cells": [
  {
   "cell_type": "markdown",
   "id": "141605b5",
   "metadata": {},
   "source": [
    "# Dense MIL\n",
    "\n",
    "Now we're going to load and train and MIL network on MNIST (presence of 0 = positive bag)."
   ]
  },
  {
   "cell_type": "code",
   "execution_count": null,
   "id": "184d20ef",
   "metadata": {},
   "outputs": [],
   "source": [
    "import tensorflow as tf\n",
    "from tensorflow.keras import layers\n",
    "import utils\n",
    "import mil_benchmarks\n",
    "\n",
    "N_CLASSES = 2\n",
    "MAX_BAG = 7\n",
    "\n",
    "utils.gpu_fix()\n",
    "\n",
    "tf.random.set_seed(42)\n",
    "print(tf.__version__)"
   ]
  },
  {
   "cell_type": "code",
   "execution_count": null,
   "id": "f8f4fa73",
   "metadata": {},
   "outputs": [],
   "source": [
    "def define_model(shape=(28, 28, 1)):\n",
    "  model = tf.keras.Sequential([\n",
    "    layers.Input((MAX_BAG,) + shape),\n",
    "    *utils.baseline_layers(shape, N_CLASSES),\n",
    "    layers.Flatten(),\n",
    "    layers.Dense(N_CLASSES, activation='softmax'),\n",
    "  ])\n",
    "\n",
    "  utils.compile(model, N_CLASSES)\n",
    "  return model\n",
    "\n",
    "print(define_model().summary())"
   ]
  },
  {
   "cell_type": "code",
   "execution_count": null,
   "id": "9e64b1fb",
   "metadata": {},
   "outputs": [],
   "source": [
    "standard_mnist = utils.evaluate_all(define_model, 'Fully-Connected', mil_benchmarks.standard.mnist)\n",
    "utils.plot_histories(standard_mnist, title='Fully-Connected / Standard MNIST', filename='img/dense-standard-mnist.jpg')"
   ]
  },
  {
   "cell_type": "code",
   "execution_count": null,
   "id": "c71a1ef4-730e-4c94-a5f7-e55e39ebfff6",
   "metadata": {},
   "outputs": [],
   "source": [
    "standard_fashion = utils.evaluate_all(define_model, 'Fully-Connected', mil_benchmarks.standard.fashion)\n",
    "utils.plot_histories(standard_fashion, title='Fully-Connected / Standard Fashion', filename='img/dense-standard-fashion.jpg')"
   ]
  },
  {
   "cell_type": "code",
   "execution_count": null,
   "id": "90dc9e26-bf09-4200-a598-4f1f44dff416",
   "metadata": {},
   "outputs": [],
   "source": [
    "standard_cifar10 = utils.evaluate_all(define_model, 'Fully-Connected', mil_benchmarks.standard.cifar10, (32, 32, 3))\n",
    "utils.plot_histories(standard_cifar10, title='Fully-Connected / Standard CIFAR-10', filename='img/dense-standard-cifar10.jpg')"
   ]
  },
  {
   "cell_type": "code",
   "execution_count": null,
   "id": "5e262f79-52d6-4a3b-ae7e-b50f86ba4c70",
   "metadata": {},
   "outputs": [],
   "source": [
    "presence_mnist = utils.evaluate_all(define_model, 'Fully-Connected', mil_benchmarks.presence.mnist)\n",
    "utils.plot_histories(presence_mnist, title='Fully-Connected / Presence MNIST', filename='img/dense-presence-mnist.jpg')"
   ]
  },
  {
   "cell_type": "code",
   "execution_count": null,
   "id": "381bdc96-ce2c-4ae7-8fc4-42691727cd19",
   "metadata": {},
   "outputs": [],
   "source": [
    "presence_fashion = utils.evaluate_all(define_model, 'Fully-Connected', mil_benchmarks.presence.fashion)\n",
    "utils.plot_histories(presence_fashion, title='Fully-Connected / Presence Fashion', filename='img/dense-presence-fashion.jpg')"
   ]
  },
  {
   "cell_type": "code",
   "execution_count": null,
   "id": "8fb58bbe-141e-4fc3-b72b-d8ec9e077e9f",
   "metadata": {},
   "outputs": [],
   "source": [
    "presence_cifar10 = utils.evaluate_all(define_model, 'Fully-Connected', mil_benchmarks.presence.cifar10, (32, 32, 3))\n",
    "utils.plot_histories(presence_cifar10, title='Fully-Connected / Presence CIFAR-10', filename='img/dense-presence-cifar10.jpg')"
   ]
  },
  {
   "cell_type": "code",
   "execution_count": null,
   "id": "c4478af0-637a-4ce2-ae3c-e37921a11ffb",
   "metadata": {},
   "outputs": [],
   "source": [
    "absence_mnist = utils.evaluate_all(define_model, 'Fully-Connected', mil_benchmarks.absence.mnist)\n",
    "utils.plot_histories(absence_mnist, title='Fully-Connected / Absence MNIST', filename='img/dense-absence-mnist.jpg')"
   ]
  },
  {
   "cell_type": "code",
   "execution_count": null,
   "id": "66b3a775-eb7a-4b03-8318-6472030243aa",
   "metadata": {},
   "outputs": [],
   "source": [
    "absence_fashion = utils.evaluate_all(define_model, 'Fully-Connected', mil_benchmarks.absence.fashion)\n",
    "utils.plot_histories(absence_fashion, title='Fully-Connected / Absence Fashion', filename='img/dense-absence-fashion.jpg')"
   ]
  },
  {
   "cell_type": "code",
   "execution_count": null,
   "id": "fcecc83d-600f-46f4-acbf-a36bc802a124",
   "metadata": {},
   "outputs": [],
   "source": [
    "absence_cifar10 = utils.evaluate_all(define_model, 'Fully-Connected', mil_benchmarks.absence.cifar10, (32, 32, 3))\n",
    "utils.plot_histories(absence_cifar10, title='Fully-Connected / Absence CIFAR-10', filename='img/dense-absence-cifar10.jpg')"
   ]
  },
  {
   "cell_type": "code",
   "execution_count": null,
   "id": "2235aeeb",
   "metadata": {},
   "outputs": [],
   "source": [
    "complex_fashion = utils.evaluate_all(define_model, 'Fully-Connected', mil_benchmarks.complex.fashion)\n",
    "utils.plot_histories(complex_fashion, title='Fully-Connected / Complex Fashion', filename='img/dense-complex-fashion.jpg')"
   ]
  }
 ],
 "metadata": {
  "kernelspec": {
   "display_name": "Python 3",
   "language": "python",
   "name": "python3"
  },
  "language_info": {
   "codemirror_mode": {
    "name": "ipython",
    "version": 3
   },
   "file_extension": ".py",
   "mimetype": "text/x-python",
   "name": "python",
   "nbconvert_exporter": "python",
   "pygments_lexer": "ipython3",
   "version": "3.8.8"
  }
 },
 "nbformat": 4,
 "nbformat_minor": 5
}
