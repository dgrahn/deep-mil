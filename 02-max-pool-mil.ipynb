{
 "cells": [
  {
   "cell_type": "markdown",
   "id": "6b026aa6",
   "metadata": {},
   "source": [
    "# Max Pool MIL\n",
    "\n",
    "Now we're going to load and train and MIL network on MNIST (presence of 0 = positive bag)."
   ]
  },
  {
   "cell_type": "code",
   "execution_count": null,
   "id": "b76f5ea1",
   "metadata": {},
   "outputs": [],
   "source": [
    "import tensorflow as tf\n",
    "from tensorflow.keras import layers\n",
    "import utils\n",
    "from noisy_and import NoisyAnd\n",
    "import mil_benchmarks\n",
    "\n",
    "N_CLASSES = 2\n",
    "MAX_BAG = 7\n",
    "\n",
    "utils.gpu_fix()\n",
    "\n",
    "tf.random.set_seed(42)\n",
    "print(tf.__version__)"
   ]
  },
  {
   "cell_type": "code",
   "execution_count": null,
   "id": "92d8f05d",
   "metadata": {},
   "outputs": [],
   "source": [
    "def define_model(shape=(28, 28, 1)):\n",
    "  model = tf.keras.Sequential([\n",
    "    layers.Input((MAX_BAG,) + shape),\n",
    "    *utils.baseline_layers(shape, N_CLASSES),\n",
    "    layers.MaxPool1D(MAX_BAG),\n",
    "    layers.Flatten(),\n",
    "  ])\n",
    "\n",
    "  utils.compile(model, N_CLASSES)\n",
    "  return model\n",
    "\n",
    "print(define_model().summary())"
   ]
  },
  {
   "cell_type": "code",
   "execution_count": null,
   "id": "3a9e5e9f",
   "metadata": {},
   "outputs": [],
   "source": [
    "standard_mnist = utils.evaluate_all(define_model, 'Max Pool', mil_benchmarks.standard.mnist)\n",
    "utils.plot_histories(standard_mnist, title='Max Pool / Standard MNIST', filename='img/maxpool-standard-mnist.jpg')"
   ]
  },
  {
   "cell_type": "code",
   "execution_count": null,
   "id": "5e77909d-6fe2-40e0-ac2b-b4a67a8e9600",
   "metadata": {},
   "outputs": [],
   "source": [
    "standard_fashion = utils.evaluate_all(define_model, 'Max Pool', mil_benchmarks.standard.fashion)\n",
    "utils.plot_histories(standard_fashion, title='Max Pool / Standard Fashion', filename='img/maxpool-standard-fashion.jpg')"
   ]
  },
  {
   "cell_type": "code",
   "execution_count": null,
   "id": "c8279815-8fee-4211-bfc7-a208a3d09d8b",
   "metadata": {},
   "outputs": [],
   "source": [
    "standard_cifar10 = utils.evaluate_all(define_model, 'Max Pool', mil_benchmarks.standard.cifar10, (32, 32, 3))\n",
    "utils.plot_histories(standard_cifar10, title='Max Pool / Standard CIFAR-10', filename='img/maxpool-standard-cifar10.jpg')"
   ]
  },
  {
   "cell_type": "code",
   "execution_count": null,
   "id": "2ac24b9e",
   "metadata": {},
   "outputs": [],
   "source": [
    "presence_mnist = utils.evaluate_all(define_model, 'Max Pool', mil_benchmarks.presence.mnist)\n",
    "utils.plot_histories(presence_mnist, title='Max Pool / Presence MNIST', filename='img/maxpool-presence-mnist.jpg')"
   ]
  },
  {
   "cell_type": "code",
   "execution_count": null,
   "id": "a300b2c4-935e-4635-a44d-a0f8ab02937f",
   "metadata": {},
   "outputs": [],
   "source": [
    "presence_fashion = utils.evaluate_all(define_model, 'Max Pool', mil_benchmarks.presence.fashion)\n",
    "utils.plot_histories(presence_fashion, title='Max Pool / Presence Fashion', filename='img/maxpool-presence-fashion.jpg')"
   ]
  },
  {
   "cell_type": "code",
   "execution_count": null,
   "id": "7720a79a-ed4f-4ab4-a60e-03706f8f9706",
   "metadata": {},
   "outputs": [],
   "source": [
    "presence_cifar10 = utils.evaluate_all(define_model, 'Max Pool', mil_benchmarks.presence.cifar10, (32, 32, 3))\n",
    "utils.plot_histories(presence_cifar10, title='Max Pool / Presence CIFAR-10', filename='img/maxpool-presence-cifar10.jpg')"
   ]
  },
  {
   "cell_type": "code",
   "execution_count": null,
   "id": "611f10ca",
   "metadata": {},
   "outputs": [],
   "source": [
    "absence_mnist = utils.evaluate_all(define_model, 'Max Pool', mil_benchmarks.absence.mnist)\n",
    "utils.plot_histories(absence_mnist, title='Max Pool / Absence MNIST', filename='img/maxpool-absence-mnist.jpg')"
   ]
  },
  {
   "cell_type": "code",
   "execution_count": null,
   "id": "60b5b04d-08db-48a8-97c9-a0154cff221d",
   "metadata": {},
   "outputs": [],
   "source": [
    "absence_fashion = utils.evaluate_all(define_model, 'Max Pool', mil_benchmarks.absence.fashion)\n",
    "utils.plot_histories(absence_fashion, title='Max Pool / Absence Fashion', filename='img/maxpool-absence-fashion.jpg')"
   ]
  },
  {
   "cell_type": "code",
   "execution_count": null,
   "id": "15f0f699-133f-4d1e-96c2-40668e533cdf",
   "metadata": {},
   "outputs": [],
   "source": [
    "absence_cifar10 = utils.evaluate_all(define_model, 'Max Pool', mil_benchmarks.absence.cifar10, (32, 32, 3))\n",
    "utils.plot_histories(absence_cifar10, title='Max Pool / Absence CIFAR-10', filename='img/maxpool-absence-cifar10.jpg')"
   ]
  },
  {
   "cell_type": "code",
   "execution_count": null,
   "id": "f5079b54-d436-49fc-ab61-d4f84a0e1cd0",
   "metadata": {},
   "outputs": [],
   "source": [
    "complex_fashion = utils.evaluate_all(define_model, 'Max Pool', mil_benchmarks.complex.fashion)\n",
    "utils.plot_histories(complex_fashion, title='Max Pool / Complex Fashion', filename='img/maxpool-complex-fashion.jpg')"
   ]
  }
 ],
 "metadata": {
  "kernelspec": {
   "display_name": "Python 3",
   "language": "python",
   "name": "python3"
  },
  "language_info": {
   "codemirror_mode": {
    "name": "ipython",
    "version": 3
   },
   "file_extension": ".py",
   "mimetype": "text/x-python",
   "name": "python",
   "nbconvert_exporter": "python",
   "pygments_lexer": "ipython3",
   "version": "3.8.8"
  }
 },
 "nbformat": 4,
 "nbformat_minor": 5
}
