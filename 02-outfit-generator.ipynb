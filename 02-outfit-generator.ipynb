{
 "cells": [
  {
   "cell_type": "markdown",
   "id": "66a626fa",
   "metadata": {},
   "source": [
    "# Outfit Data Generator\n",
    "\n",
    "We want the MIL datasets to be identical from run to run. To do this, we'll produce CSVs with bag indices and labels.\n",
    "\n",
    "This notebook builds an MIL dataset to decide whether a full outfit exists in the bag."
   ]
  },
  {
   "cell_type": "code",
   "execution_count": 1,
   "id": "76e3c8c8",
   "metadata": {},
   "outputs": [],
   "source": [
    "import numpy as np\n",
    "import matplotlib.pyplot as plt\n",
    "import pandas as pd\n",
    "import random\n",
    "import sklearn\n",
    "from tensorflow.keras.datasets import fashion_mnist\n",
    "\n",
    "# Set random seeds for consistency\n",
    "random.seed(42)\n",
    "np.random.seed(42)"
   ]
  },
  {
   "cell_type": "code",
   "execution_count": 2,
   "id": "530bb951",
   "metadata": {},
   "outputs": [
    {
     "name": "stdout",
     "output_type": "stream",
     "text": [
      "(60000, 28, 28) (10000, 28, 28) (60000,) (10000,)\n"
     ]
    },
    {
     "data": {
      "image/png": "[encoded data removed]",
      "text/plain": [
       "<Figure size 432x288 with 1 Axes>"
      ]
     },
     "metadata": {
      "needs_background": "light"
     },
     "output_type": "display_data"
    }
   ],
   "source": [
    "(x_train, y_train), (x_test, y_test) = fashion_mnist.load_data()\n",
    "print(x_train.shape, x_test.shape, y_train.shape, y_test.shape)\n",
    "\n",
    "plt.hist(y_train)\n",
    "plt.hist(y_test)\n",
    "plt.legend(['Train', 'Test'])\n",
    "plt.title('Y Values')\n",
    "plt.show()\n",
    "plt.close()"
   ]
  },
  {
   "cell_type": "code",
   "execution_count": 3,
   "id": "33aadb15",
   "metadata": {},
   "outputs": [
    {
     "data": {
      "image/png": "[encoded data removed]",
      "text/plain": [
       "<Figure size 432x288 with 1 Axes>"
      ]
     },
     "metadata": {
      "needs_background": "light"
     },
     "output_type": "display_data"
    }
   ],
   "source": [
    "remap= {\n",
    "  0: 0, # tshirt -> top\n",
    "  2: 0, # pullover -> top\n",
    "  3: 0, # dress -> top\n",
    "  4: 0, # coat -> top\n",
    "  6: 0, # shirt -> top\n",
    "  \n",
    "  1: 1, # trouser -> bottom\n",
    "  \n",
    "  5: 2, # sandals -> shoes\n",
    "  7: 2, # sneaker -> shoes\n",
    "  9: 2, # boots -> shoes\n",
    "  \n",
    "  8: 3, # bags -> bags\n",
    "}\n",
    "\n",
    "y_train = np.array([ remap[y] for y in y_train ])\n",
    "y_test = np.array([ remap[y] for y in y_test ])\n",
    "\n",
    "plt.hist(y_train)\n",
    "plt.hist(y_test)\n",
    "plt.legend(['Train', 'Test'])\n",
    "plt.title('Y Values')\n",
    "plt.show()\n",
    "plt.close()"
   ]
  },
  {
   "cell_type": "code",
   "execution_count": 4,
   "id": "e117e7df",
   "metadata": {},
   "outputs": [
    {
     "name": "stdout",
     "output_type": "stream",
     "text": [
      "train: x=(13294, 7), y=(13294,), %=0.2487588385737927\n",
      "test : x=(2233, 7), y=(2233,), %=0.24630541871921183\n"
     ]
    }
   ],
   "source": [
    "def pad(arr, max_size):\n",
    "  p = np.empty(max_size - arr.shape[0])\n",
    "  p.fill(-1)\n",
    "  return np.concatenate([arr, p])\n",
    "\n",
    "def bag_generator(x, y, get_label, min_size=3, max_size=7):\n",
    "  x_shuf, y_shuf = sklearn.utils.shuffle(np.arange(x.shape[0]), y)\n",
    "\n",
    "  x_bags = []\n",
    "  y_bags = []\n",
    "  \n",
    "  i = 0\n",
    "  \n",
    "  while (x_shuf.shape[0] - i) > max_size:\n",
    "    size = random.randrange(min_size, min(max_size, x_shuf.shape[0] - i - min_size))\n",
    "    x_bags.append(pad(x_shuf[i:i + size], max_size))\n",
    "    y_bags.append(get_label(y_shuf[i:i + size]))\n",
    "    i += size\n",
    "\n",
    "  x_bags.append(pad(x_shuf[i:], max_size))\n",
    "  y_bags.append(get_label(y_shuf[i:]))\n",
    "\n",
    "  return np.array(x_bags).astype(int), np.array(y_bags).astype(int)\n",
    "\n",
    "def contains_outfit(labels):\n",
    "  \"\"\"Outfit needs top, bottom, and shoes.\"\"\"\n",
    "  return (0 in labels and 1 in labels and 2 in labels)\n",
    "\n",
    "x_train_bags, y_train_bags = bag_generator(x_train, y_train, contains_outfit)\n",
    "x_test_bags, y_test_bags = bag_generator(x_test, y_test, contains_outfit)\n",
    "\n",
    "\n",
    "print(f'train: x={x_train_bags.shape}, y={y_train_bags.shape}, %={y_train_bags.sum() / y_train_bags.shape[0]}')\n",
    "print(f'test : x={x_test_bags.shape}, y={y_test_bags.shape}, %={y_test_bags.sum() / y_test_bags.shape[0]}')"
   ]
  },
  {
   "cell_type": "code",
   "execution_count": 5,
   "id": "538c60f7",
   "metadata": {},
   "outputs": [],
   "source": [
    "train = np.concatenate([y_train_bags[:, np.newaxis], x_train_bags], axis=1)\n",
    "test = np.concatenate([y_test_bags[:, np.newaxis], x_test_bags], axis=1)\n",
    "\n",
    "columns = ['y'] + [ f'x{i}' for i in range(train.shape[1] - 1)]\n",
    "\n",
    "train_df = pd.DataFrame(train, columns=columns)\n",
    "test_df = pd.DataFrame(test, columns=columns)\n",
    "\n",
    "train_df.to_csv('data/outfit_train.csv')\n",
    "test_df.to_csv('data/outfit_test.csv')"
   ]
  }
 ],
 "metadata": {
  "kernelspec": {
   "display_name": "Python 3",
   "language": "python",
   "name": "python3"
  },
  "language_info": {
   "codemirror_mode": {
    "name": "ipython",
    "version": 3
   },
   "file_extension": ".py",
   "mimetype": "text/x-python",
   "name": "python",
   "nbconvert_exporter": "python",
   "pygments_lexer": "ipython3",
   "version": "3.8.8"
  }
 },
 "nbformat": 4,
 "nbformat_minor": 5
}
