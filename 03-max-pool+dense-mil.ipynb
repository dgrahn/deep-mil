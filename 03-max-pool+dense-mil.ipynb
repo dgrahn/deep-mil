{
 "cells": [
  {
   "cell_type": "markdown",
   "id": "6b026aa6",
   "metadata": {},
   "source": [
    "# Max Pool + Fully-Connected MIL\n",
    "\n",
    "Now we're going to load and train and MIL network on MNIST (presence of 0 = positive bag)."
   ]
  },
  {
   "cell_type": "code",
   "execution_count": 1,
   "id": "b76f5ea1",
   "metadata": {},
   "outputs": [
    {
     "name": "stdout",
     "output_type": "stream",
     "text": [
      "1 Physical GPUs, 1 Logical GPUs\n",
      "2.4.1\n"
     ]
    }
   ],
   "source": [
    "import tensorflow as tf\n",
    "from tensorflow.keras import layers\n",
    "import utils\n",
    "from noisy_and import NoisyAnd\n",
    "import mil_benchmarks\n",
    "\n",
    "N_CLASSES = 2\n",
    "MAX_BAG = 7\n",
    "\n",
    "utils.gpu_fix()\n",
    "\n",
    "tf.random.set_seed(42)\n",
    "print(tf.__version__)"
   ]
  },
  {
   "cell_type": "code",
   "execution_count": 2,
   "id": "92d8f05d",
   "metadata": {},
   "outputs": [
    {
     "name": "stdout",
     "output_type": "stream",
     "text": [
      "Model: \"sequential\"\n",
      "_________________________________________________________________\n",
      "Layer (type)                 Output Shape              Param #   \n",
      "=================================================================\n",
      "time_distributed (TimeDistri (None, 7, 28, 28, 64)     320       \n",
      "_________________________________________________________________\n",
      "time_distributed_1 (TimeDist (None, 7, 14, 14, 64)     0         \n",
      "_________________________________________________________________\n",
      "time_distributed_2 (TimeDist (None, 7, 12, 12, 32)     18464     \n",
      "_________________________________________________________________\n",
      "time_distributed_3 (TimeDist (None, 7, 6, 6, 32)       0         \n",
      "_________________________________________________________________\n",
      "time_distributed_4 (TimeDist (None, 7, 6, 6, 32)       0         \n",
      "_________________________________________________________________\n",
      "time_distributed_5 (TimeDist (None, 7, 1152)           0         \n",
      "_________________________________________________________________\n",
      "time_distributed_6 (TimeDist (None, 7, 256)            295168    \n",
      "_________________________________________________________________\n",
      "time_distributed_7 (TimeDist (None, 7, 256)            0         \n",
      "_________________________________________________________________\n",
      "time_distributed_8 (TimeDist (None, 7, 2)              514       \n",
      "_________________________________________________________________\n",
      "max_pooling1d (MaxPooling1D) (None, 1, 2)              0         \n",
      "_________________________________________________________________\n",
      "flatten_1 (Flatten)          (None, 2)                 0         \n",
      "=================================================================\n",
      "Total params: 314,466\n",
      "Trainable params: 314,466\n",
      "Non-trainable params: 0\n",
      "_________________________________________________________________\n",
      "None\n"
     ]
    }
   ],
   "source": [
    "def define_model(shape=(28, 28, 1)):\n",
    "  model = tf.keras.Sequential([\n",
    "    layers.Input((MAX_BAG,) + shape),\n",
    "    *utils.baseline_layers(shape, N_CLASSES),\n",
    "    layers.maxpool+dense1D(MAX_BAG),\n",
    "    layers.Flatten(),\n",
    "    layers.Dense(N_CLASSES, activation='softmax'),\n",
    "  ])\n",
    "\n",
    "  utils.compile(model, N_CLASSES)\n",
    "  return model\n",
    "\n",
    "print(define_model().summary())"
   ]
  },
  {
   "cell_type": "code",
   "execution_count": null,
   "id": "3a9e5e9f",
   "metadata": {},
   "outputs": [],
   "source": [
    "standard_mnist   = utils.evaluate_all(define_model, 'Max Pool + Fully-Connected', mil_benchmarks.standard.mnist)\n",
    "standard_fashion = utils.evaluate_all(define_model, 'Max Pool + Fully-Connected', mil_benchmarks.standard.fashion)\n",
    "standard_cifar10 = utils.evaluate_all(define_model, 'Max Pool + Fully-Connected', mil_benchmarks.standard.cifar10, (32, 32, 3))"
   ]
  },
  {
   "cell_type": "code",
   "execution_count": null,
   "id": "2ac24b9e",
   "metadata": {},
   "outputs": [],
   "source": [
    "presence_mnist   = utils.evaluate_all(define_model, 'Max Pool + Fully-Connected', mil_benchmarks.presence.mnist)\n",
    "presence_fashion = utils.evaluate_all(define_model, 'Max Pool + Fully-Connected', mil_benchmarks.presence.fashion)\n",
    "presence_cifar10 = utils.evaluate_all(define_model, 'Max Pool + Fully-Connected', mil_benchmarks.presence.cifar10, (32, 32, 3))"
   ]
  },
  {
   "cell_type": "code",
   "execution_count": null,
   "id": "611f10ca",
   "metadata": {},
   "outputs": [],
   "source": [
    "absence_mnist   = utils.evaluate_all(define_model, 'Max Pool + Fully-Connected', mil_benchmarks.absence.mnist)\n",
    "absence_fashion = utils.evaluate_all(define_model, 'Max Pool + Fully-Connected', mil_benchmarks.absence.fashion)\n",
    "absence_cifar10 = utils.evaluate_all(define_model, 'Max Pool + Fully-Connected', mil_benchmarks.absence.cifar10, (32, 32, 3))"
   ]
  },
  {
   "cell_type": "code",
   "execution_count": null,
   "id": "f5079b54-d436-49fc-ab61-d4f84a0e1cd0",
   "metadata": {},
   "outputs": [],
   "source": [
    "complex_fashion = utils.evaluate_all(define_model, 'Max Pool + Fully-Connected', mil_benchmarks.complex.fashion)"
   ]
  },
  {
   "cell_type": "code",
   "execution_count": null,
   "id": "7890f8cd-8e40-40cf-bb41-fe7ed263604e",
   "metadata": {},
   "outputs": [],
   "source": [
    "utils.plot_histories(standard_mnist, title='Standard MNIST', filename='img/maxpool+dense-standard-mnist.jpg')\n",
    "utils.plot_histories(standard_fashion, title='Standard Fashion', filename='img/maxpool+dense-standard-fashion.jpg')\n",
    "utils.plot_histories(standard_cifar10, title='Standard CIFAR-10', filename='img/maxpool+dense-standard-cifar10.jpg')\n",
    "\n",
    "utils.plot_histories(presence_mnist, title='Presence MNIST', filename='img/maxpool+dense-presence-mnist.jpg')\n",
    "utils.plot_histories(presence_fashion, title='Presence Fashion', filename='img/maxpool+dense-presence-fashion.jpg')\n",
    "utils.plot_histories(presence_cifar10, title='Presence CIFAR-10', filename='img/maxpool+dense-presence-cifar10.jpg')\n",
    "\n",
    "utils.plot_histories(absence_mnist, title='Absence MNIST', filename='img/maxpool+dense-absence-mnist.jpg')\n",
    "utils.plot_histories(absence_fashion, title='Absence Fashion', filename='img/maxpool+dense-absence-fashion.jpg')\n",
    "utils.plot_histories(absence_cifar10, title='Absence CIFAR-10', filename='img/maxpool+dense-absence-cifar10.jpg')\n",
    "\n",
    "utils.plot_histories(complex_fashion, title='Complex Fashion', filename='img/maxpool+dense-complex-fashion.jpg')"
   ]
  }
 ],
 "metadata": {
  "kernelspec": {
   "display_name": "Python 3",
   "language": "python",
   "name": "python3"
  },
  "language_info": {
   "codemirror_mode": {
    "name": "ipython",
    "version": 3
   },
   "file_extension": ".py",
   "mimetype": "text/x-python",
   "name": "python",
   "nbconvert_exporter": "python",
   "pygments_lexer": "ipython3",
   "version": "3.8.8"
  }
 },
 "nbformat": 4,
 "nbformat_minor": 5
}
