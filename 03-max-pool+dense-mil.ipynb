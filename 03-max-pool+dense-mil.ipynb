{
 "cells": [
  {
   "cell_type": "markdown",
   "id": "6b026aa6",
   "metadata": {},
   "source": [
    "# Max Pool + FC MIL\n",
    "\n",
    "Now we're going to load and train and MIL network on MNIST (presence of 0 = positive bag)."
   ]
  },
  {
   "cell_type": "code",
   "execution_count": null,
   "id": "b76f5ea1",
   "metadata": {},
   "outputs": [],
   "source": [
    "import tensorflow as tf\n",
    "from tensorflow.keras import layers\n",
    "import utils\n",
    "from noisy_and import NoisyAnd\n",
    "import mil_benchmarks\n",
    "\n",
    "N_CLASSES = 2\n",
    "MAX_BAG = 7\n",
    "\n",
    "utils.gpu_fix()\n",
    "\n",
    "tf.random.set_seed(42)\n",
    "print(tf.__version__)"
   ]
  },
  {
   "cell_type": "code",
   "execution_count": null,
   "id": "92d8f05d",
   "metadata": {},
   "outputs": [],
   "source": [
    "def define_model(shape=(28, 28, 1)):\n",
    "  model = tf.keras.Sequential([\n",
    "    layers.Input((MAX_BAG,) + shape),\n",
    "    *utils.baseline_layers(shape, N_CLASSES),\n",
    "    layers.MaxPool1D(MAX_BAG),\n",
    "    layers.Flatten(),\n",
    "    layers.Dense(N_CLASSES, activation='softmax'),\n",
    "  ])\n",
    "\n",
    "  utils.compile(model, N_CLASSES)\n",
    "  return model\n",
    "\n",
    "print(define_model().summary())"
   ]
  },
  {
   "cell_type": "code",
   "execution_count": null,
   "id": "3a9e5e9f",
   "metadata": {},
   "outputs": [],
   "source": [
    "standard_mnist = utils.evaluate_all(define_model, 'Max Pool + FC', mil_benchmarks.standard.mnist)\n",
    "utils.plot_histories(standard_mnist, title='Max Pool + FC / Standard MNIST', filename='img/maxpool+fc-standard-mnist.jpg')"
   ]
  },
  {
   "cell_type": "code",
   "execution_count": null,
   "id": "20bb4ede-2327-4ed9-93f7-52c663318641",
   "metadata": {},
   "outputs": [],
   "source": [
    "standard_fashion = utils.evaluate_all(define_model, 'Max Pool + FC', mil_benchmarks.standard.fashion)\n",
    "utils.plot_histories(standard_fashion, title='Max Pool + FC / Standard Fashion', filename='img/maxpool+fc-standard-fashion.jpg')"
   ]
  },
  {
   "cell_type": "code",
   "execution_count": null,
   "id": "e0fe5886-3bef-4a35-af0a-57de42ed3d86",
   "metadata": {},
   "outputs": [],
   "source": [
    "standard_cifar10 = utils.evaluate_all(define_model, 'Max Pool + FC', mil_benchmarks.standard.cifar10, (32, 32, 3))\n",
    "utils.plot_histories(standard_cifar10, title='Max Pool + FC / Standard CIFAR-10', filename='img/maxpool+fc-standard-cifar10.jpg')"
   ]
  },
  {
   "cell_type": "code",
   "execution_count": null,
   "id": "2ac24b9e",
   "metadata": {},
   "outputs": [],
   "source": [
    "presence_mnist = utils.evaluate_all(define_model, 'Max Pool + FC', mil_benchmarks.presence.mnist)\n",
    "utils.plot_histories(presence_mnist, title='Max Pool + FC / Presence MNIST', filename='img/maxpool+fc-presence-mnist.jpg')"
   ]
  },
  {
   "cell_type": "code",
   "execution_count": null,
   "id": "7b7cc3ff-0847-4a4a-a493-69181e4ff8bf",
   "metadata": {},
   "outputs": [],
   "source": [
    "presence_fashion = utils.evaluate_all(define_model, 'Max Pool + FC', mil_benchmarks.presence.fashion)\n",
    "utils.plot_histories(presence_fashion, title='Max Pool + FC / Presence Fashion', filename='img/maxpool+fc-presence-fashion.jpg')"
   ]
  },
  {
   "cell_type": "code",
   "execution_count": null,
   "id": "ab2e72b7-b2f7-48d1-857e-6bab6bdd9713",
   "metadata": {},
   "outputs": [],
   "source": [
    "presence_cifar10 = utils.evaluate_all(define_model, 'Max Pool + FC', mil_benchmarks.presence.cifar10, (32, 32, 3))\n",
    "utils.plot_histories(presence_cifar10, title='Max Pool + FC / Presence CIFAR-10', filename='img/maxpool+fc-presence-cifar10.jpg')"
   ]
  },
  {
   "cell_type": "code",
   "execution_count": null,
   "id": "611f10ca",
   "metadata": {},
   "outputs": [],
   "source": [
    "absence_mnist = utils.evaluate_all(define_model, 'Max Pool + FC', mil_benchmarks.absence.mnist)\n",
    "utils.plot_histories(absence_mnist, title='Max Pool + FC / Absence MNIST', filename='img/maxpool+fc-absence-mnist.jpg')"
   ]
  },
  {
   "cell_type": "code",
   "execution_count": null,
   "id": "53ffb6e3-6a28-41f5-be53-fd3241a42017",
   "metadata": {},
   "outputs": [],
   "source": [
    "absence_fashion = utils.evaluate_all(define_model, 'Max Pool + FC', mil_benchmarks.absence.fashion)\n",
    "utils.plot_histories(absence_fashion, title='Max Pool + FC / Absence Fashion', filename='img/maxpool+fc-absence-fashion.jpg')"
   ]
  },
  {
   "cell_type": "code",
   "execution_count": null,
   "id": "111d140a-1129-466c-84d0-80ed64023813",
   "metadata": {},
   "outputs": [],
   "source": [
    "absence_cifar10 = utils.evaluate_all(define_model, 'Max Pool + FC', mil_benchmarks.absence.cifar10, (32, 32, 3))\n",
    "utils.plot_histories(absence_cifar10, title='Max Pool + FC / Absence CIFAR-10', filename='img/maxpool+fc-absence-cifar10.jpg')"
   ]
  },
  {
   "cell_type": "code",
   "execution_count": null,
   "id": "f5079b54-d436-49fc-ab61-d4f84a0e1cd0",
   "metadata": {},
   "outputs": [],
   "source": [
    "complex_fashion = utils.evaluate_all(define_model, 'Max Pool + FC', mil_benchmarks.complex.fashion)\n",
    "utils.plot_histories(complex_fashion, title='Max Pool + FC / Complex Fashion', filename='img/maxpool+fc-complex-fashion.jpg')"
   ]
  }
 ],
 "metadata": {
  "kernelspec": {
   "display_name": "Python 3",
   "language": "python",
   "name": "python3"
  },
  "language_info": {
   "codemirror_mode": {
    "name": "ipython",
    "version": 3
   },
   "file_extension": ".py",
   "mimetype": "text/x-python",
   "name": "python",
   "nbconvert_exporter": "python",
   "pygments_lexer": "ipython3",
   "version": "3.8.8"
  }
 },
 "nbformat": 4,
 "nbformat_minor": 5
}
