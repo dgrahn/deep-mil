{
 "cells": [
  {
   "cell_type": "markdown",
   "id": "94751161",
   "metadata": {},
   "source": [
    "# MNIST & Fashion CNN\n",
    "\n",
    "Before working on the MIL, we'd like to produce a CNN which can properly classify MNIST and Fashion MNIST. Because the fashion MNIST is more difficult, we'll start with it."
   ]
  },
  {
   "cell_type": "code",
   "execution_count": 1,
   "id": "9a0aae4b",
   "metadata": {},
   "outputs": [
    {
     "name": "stdout",
     "output_type": "stream",
     "text": [
      "2.4.1\n"
     ]
    }
   ],
   "source": [
    "import matplotlib.pyplot as plt\n",
    "import numpy as np\n",
    "import sklearn.model_selection\n",
    "import tensorflow as tf\n",
    "import tensorflow_addons as tfa\n",
    "from tensorflow.keras import layers\n",
    "\n",
    "np.random.seed(42)\n",
    "tf.random.set_seed(42)\n",
    "\n",
    "N_CLASSES = 10\n",
    "\n",
    "print(tf.__version__)"
   ]
  },
  {
   "cell_type": "markdown",
   "id": "09a4dfb3",
   "metadata": {},
   "source": [
    "Helper functions to load the datasets."
   ]
  },
  {
   "cell_type": "code",
   "execution_count": 2,
   "id": "01452c60",
   "metadata": {},
   "outputs": [],
   "source": [
    "def preprocess(dataset):\n",
    "  (x_train, y_train), (x_test, y_test) = dataset\n",
    "\n",
    "  # Standardize\n",
    "  x_train = x_train[..., np.newaxis] / 255 #tf.image.per_image_standardization(x_train[..., np.newaxis]).numpy()\n",
    "  x_test = x_test[..., np.newaxis] / 255 #tf.image.per_image_standardization(x_test[..., np.newaxis]).numpy()\n",
    "\n",
    "  # One hot\n",
    "  y_train = tf.one_hot(y_train, N_CLASSES).numpy()\n",
    "  y_test = tf.one_hot(y_test, N_CLASSES).numpy()\n",
    "\n",
    "  return (x_train, y_train), (x_test, y_test)\n",
    "\n",
    "def load_fashion():\n",
    "  return preprocess(tf.keras.datasets.fashion_mnist.load_data())\n",
    "\n",
    "def load_mnist():\n",
    "  return preprocess(tf.keras.datasets.mnist.load_data())"
   ]
  },
  {
   "cell_type": "markdown",
   "id": "41525de1",
   "metadata": {},
   "source": [
    "Helper function to train the model."
   ]
  },
  {
   "cell_type": "code",
   "execution_count": 3,
   "id": "b99352c6",
   "metadata": {},
   "outputs": [],
   "source": [
    "def evaluate(create_model, load_dataset, n_folds=5):\n",
    "  (x_train, y_train), (x_test, y_test) = load_dataset()\n",
    "  print(x_train.shape, y_train.shape, x_test.shape, y_test.shape)\n",
    "\n",
    "  model = create_model()\n",
    "\n",
    "  return model.fit(\n",
    "      x_train, y_train,\n",
    "      callbacks=[ tf.keras.callbacks.EarlyStopping(\n",
    "          monitor='val_loss',\n",
    "          patience=5,\n",
    "          restore_best_weights=True\n",
    "      ) ],\n",
    "      validation_data=(x_test, y_test),\n",
    "      epochs=10,\n",
    "      batch_size=64\n",
    "  )"
   ]
  },
  {
   "cell_type": "code",
   "execution_count": 4,
   "id": "e18b77b2",
   "metadata": {},
   "outputs": [
    {
     "name": "stdout",
     "output_type": "stream",
     "text": [
      "Model: \"sequential\"\n",
      "_________________________________________________________________\n",
      "Layer (type)                 Output Shape              Param #   \n",
      "=================================================================\n",
      "conv2d (Conv2D)              (None, 28, 28, 64)        320       \n",
      "_________________________________________________________________\n",
      "max_pooling2d (MaxPooling2D) (None, 14, 14, 64)        0         \n",
      "_________________________________________________________________\n",
      "conv2d_1 (Conv2D)            (None, 12, 12, 32)        18464     \n",
      "_________________________________________________________________\n",
      "max_pooling2d_1 (MaxPooling2 (None, 6, 6, 32)          0         \n",
      "_________________________________________________________________\n",
      "dropout (Dropout)            (None, 6, 6, 32)          0         \n",
      "_________________________________________________________________\n",
      "flatten (Flatten)            (None, 1152)              0         \n",
      "_________________________________________________________________\n",
      "dense (Dense)                (None, 256)               295168    \n",
      "_________________________________________________________________\n",
      "dropout_1 (Dropout)          (None, 256)               0         \n",
      "_________________________________________________________________\n",
      "dense_1 (Dense)              (None, 10)                2570      \n",
      "=================================================================\n",
      "Total params: 316,522\n",
      "Trainable params: 316,522\n",
      "Non-trainable params: 0\n",
      "_________________________________________________________________\n",
      "None\n"
     ]
    }
   ],
   "source": [
    "def define_model():\n",
    "  model = tf.keras.Sequential([\n",
    "      layers.Input((28, 28, 1)),\n",
    "      layers.Conv2D(64, 2, activation='relu', padding='same'),\n",
    "      layers.MaxPool2D(2),\n",
    "      layers.Conv2D(32, 3, activation='relu'),\n",
    "      layers.MaxPool2D(2),\n",
    "      layers.Dropout(0.3),\n",
    "      layers.Flatten(),\n",
    "      layers.Dense(256, activation='relu'),\n",
    "      layers.Dropout(0.5),\n",
    "      layers.Dense(N_CLASSES, activation='softmax'),\n",
    "  ])\n",
    "\n",
    "  model.compile(\n",
    "      optimizer=tf.optimizers.Adam(),\n",
    "      loss=tf.losses.CategoricalCrossentropy(),\n",
    "      metrics=[\n",
    "          'accuracy',\n",
    "          tfa.metrics.F1Score(N_CLASSES, name='f1'),\n",
    "      ],\n",
    "  )\n",
    "  return model\n",
    "\n",
    "print(define_model().summary())"
   ]
  },
  {
   "cell_type": "code",
   "execution_count": 5,
   "id": "d7c7d218",
   "metadata": {},
   "outputs": [
    {
     "name": "stdout",
     "output_type": "stream",
     "text": [
      "(60000, 28, 28, 1) (60000, 10) (10000, 28, 28, 1) (10000, 10)\n",
      "Epoch 1/10\n",
      "938/938 [==============================] - 34s 35ms/step - loss: 0.7630 - accuracy: 0.7228 - f1: 0.7170 - val_loss: 0.3564 - val_accuracy: 0.8717 - val_f1: 0.8695\n",
      "Epoch 2/10\n",
      "938/938 [==============================] - 31s 33ms/step - loss: 0.3764 - accuracy: 0.8620 - f1: 0.8600 - val_loss: 0.3148 - val_accuracy: 0.8840 - val_f1: 0.8817\n",
      "Epoch 3/10\n",
      "938/938 [==============================] - 32s 34ms/step - loss: 0.3307 - accuracy: 0.8784 - f1: 0.8780 - val_loss: 0.2749 - val_accuracy: 0.8982 - val_f1: 0.8976\n",
      "Epoch 4/10\n",
      "938/938 [==============================] - 31s 34ms/step - loss: 0.2976 - accuracy: 0.8923 - f1: 0.8914 - val_loss: 0.2638 - val_accuracy: 0.9007 - val_f1: 0.9022\n",
      "Epoch 5/10\n",
      "938/938 [==============================] - 32s 34ms/step - loss: 0.2782 - accuracy: 0.8976 - f1: 0.8973 - val_loss: 0.2575 - val_accuracy: 0.9047 - val_f1: 0.9031\n",
      "Epoch 6/10\n",
      "938/938 [==============================] - 32s 34ms/step - loss: 0.2635 - accuracy: 0.9032 - f1: 0.9031 - val_loss: 0.2433 - val_accuracy: 0.9103 - val_f1: 0.9103\n",
      "Epoch 7/10\n",
      "938/938 [==============================] - 32s 34ms/step - loss: 0.2468 - accuracy: 0.9078 - f1: 0.9071 - val_loss: 0.2538 - val_accuracy: 0.9068 - val_f1: 0.9056\n",
      "Epoch 8/10\n",
      "938/938 [==============================] - 34s 36ms/step - loss: 0.2351 - accuracy: 0.9149 - f1: 0.9138 - val_loss: 0.2359 - val_accuracy: 0.9122 - val_f1: 0.9117\n",
      "Epoch 9/10\n",
      "938/938 [==============================] - 32s 34ms/step - loss: 0.2305 - accuracy: 0.9134 - f1: 0.9135 - val_loss: 0.2305 - val_accuracy: 0.9160 - val_f1: 0.9154\n",
      "Epoch 10/10\n",
      "938/938 [==============================] - 32s 35ms/step - loss: 0.2224 - accuracy: 0.9160 - f1: 0.9158 - val_loss: 0.2286 - val_accuracy: 0.9169 - val_f1: 0.9168\n"
     ]
    },
    {
     "data": {
      "text/plain": [
       "<tensorflow.python.keras.callbacks.History at 0x21a09f81a60>"
      ]
     },
     "execution_count": 5,
     "metadata": {},
     "output_type": "execute_result"
    }
   ],
   "source": [
    "evaluate(define_model, load_fashion)"
   ]
  },
  {
   "cell_type": "code",
   "execution_count": 6,
   "id": "82648d49",
   "metadata": {},
   "outputs": [
    {
     "name": "stdout",
     "output_type": "stream",
     "text": [
      "(60000, 28, 28, 1) (60000, 10) (10000, 28, 28, 1) (10000, 10)\n",
      "Epoch 1/10\n",
      "938/938 [==============================] - 35s 37ms/step - loss: 0.5053 - accuracy: 0.8346 - f1: 0.8320 - val_loss: 0.0541 - val_accuracy: 0.9834 - val_f1: 0.9833\n",
      "Epoch 2/10\n",
      "938/938 [==============================] - 33s 35ms/step - loss: 0.0924 - accuracy: 0.9713 - f1: 0.9712 - val_loss: 0.0375 - val_accuracy: 0.9888 - val_f1: 0.9887\n",
      "Epoch 3/10\n",
      "938/938 [==============================] - 33s 35ms/step - loss: 0.0700 - accuracy: 0.9776 - f1: 0.9774 - val_loss: 0.0315 - val_accuracy: 0.9889 - val_f1: 0.9889\n",
      "Epoch 4/10\n",
      "938/938 [==============================] - 33s 36ms/step - loss: 0.0575 - accuracy: 0.9818 - f1: 0.9816 - val_loss: 0.0316 - val_accuracy: 0.9905 - val_f1: 0.9905\n",
      "Epoch 5/10\n",
      "938/938 [==============================] - 35s 38ms/step - loss: 0.0495 - accuracy: 0.9842 - f1: 0.9841 - val_loss: 0.0324 - val_accuracy: 0.9888 - val_f1: 0.9887\n",
      "Epoch 6/10\n",
      "938/938 [==============================] - 34s 36ms/step - loss: 0.0485 - accuracy: 0.9851 - f1: 0.9850 - val_loss: 0.0275 - val_accuracy: 0.9909 - val_f1: 0.9908\n",
      "Epoch 7/10\n",
      "938/938 [==============================] - 33s 35ms/step - loss: 0.0399 - accuracy: 0.9866 - f1: 0.9865 - val_loss: 0.0258 - val_accuracy: 0.9914 - val_f1: 0.9913\n",
      "Epoch 8/10\n",
      "938/938 [==============================] - 35s 37ms/step - loss: 0.0384 - accuracy: 0.9873 - f1: 0.9872 - val_loss: 0.0246 - val_accuracy: 0.9923 - val_f1: 0.9922\n",
      "Epoch 9/10\n",
      "938/938 [==============================] - 35s 37ms/step - loss: 0.0337 - accuracy: 0.9892 - f1: 0.9891 - val_loss: 0.0272 - val_accuracy: 0.9913 - val_f1: 0.9912\n",
      "Epoch 10/10\n",
      "938/938 [==============================] - 34s 37ms/step - loss: 0.0339 - accuracy: 0.9893 - f1: 0.9893 - val_loss: 0.0229 - val_accuracy: 0.9924 - val_f1: 0.9924\n"
     ]
    },
    {
     "data": {
      "text/plain": [
       "<tensorflow.python.keras.callbacks.History at 0x21a0ad91b80>"
      ]
     },
     "execution_count": 6,
     "metadata": {},
     "output_type": "execute_result"
    }
   ],
   "source": [
    "evaluate(define_model, load_mnist)"
   ]
  }
 ],
 "metadata": {
  "kernelspec": {
   "display_name": "Python 3",
   "language": "python",
   "name": "python3"
  },
  "language_info": {
   "codemirror_mode": {
    "name": "ipython",
    "version": 3
   },
   "file_extension": ".py",
   "mimetype": "text/x-python",
   "name": "python",
   "nbconvert_exporter": "python",
   "pygments_lexer": "ipython3",
   "version": "3.8.8"
  }
 },
 "nbformat": 4,
 "nbformat_minor": 5
}
