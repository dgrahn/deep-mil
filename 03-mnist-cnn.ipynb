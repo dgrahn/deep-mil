{
 "cells": [
  {
   "cell_type": "markdown",
   "id": "1b24e66e",
   "metadata": {},
   "source": [
    "# MNIST & Fashion CNN\n",
    "\n",
    "Before working on the MIL, we'd like to produce a CNN which can properly classify MNIST and Fashion MNIST. Because the fashion MNIST is more difficult, we'll start with it."
   ]
  },
  {
   "cell_type": "code",
   "execution_count": 1,
   "id": "71602459",
   "metadata": {},
   "outputs": [
    {
     "name": "stdout",
     "output_type": "stream",
     "text": [
      "2.4.1\n"
     ]
    }
   ],
   "source": [
    "import matplotlib.pyplot as plt\n",
    "import numpy as np\n",
    "import sklearn.model_selection\n",
    "import tensorflow as tf\n",
    "import tensorflow_addons as tfa\n",
    "from tensorflow.keras import layers\n",
    "\n",
    "np.random.seed(42)\n",
    "tf.random.set_seed(42)\n",
    "\n",
    "N_CLASSES = 10\n",
    "\n",
    "print(tf.__version__)"
   ]
  },
  {
   "cell_type": "markdown",
   "id": "be049bc4",
   "metadata": {},
   "source": [
    "Helper functions to load the datasets."
   ]
  },
  {
   "cell_type": "code",
   "execution_count": 2,
   "id": "b499a024",
   "metadata": {},
   "outputs": [],
   "source": [
    "def preprocess(dataset):\n",
    "  (x_train, y_train), (x_test, y_test) = dataset\n",
    "\n",
    "  # Standardize\n",
    "  x_train = x_train[..., np.newaxis] / 255 #tf.image.per_image_standardization(x_train[..., np.newaxis]).numpy()\n",
    "  x_test = x_test[..., np.newaxis] / 255 #tf.image.per_image_standardization(x_test[..., np.newaxis]).numpy()\n",
    "\n",
    "  # One hot\n",
    "  y_train = tf.one_hot(y_train, N_CLASSES).numpy()\n",
    "  y_test = tf.one_hot(y_test, N_CLASSES).numpy()\n",
    "\n",
    "  return (x_train, y_train), (x_test, y_test)\n",
    "\n",
    "def load_fashion():\n",
    "  return preprocess(tf.keras.datasets.fashion_mnist.load_data())\n",
    "\n",
    "def load_mnist():\n",
    "  return preprocess(tf.keras.datasets.mnist.load_data())"
   ]
  },
  {
   "cell_type": "markdown",
   "id": "400b0402",
   "metadata": {},
   "source": [
    "Helper function to train the model."
   ]
  },
  {
   "cell_type": "code",
   "execution_count": 3,
   "id": "5872cca9",
   "metadata": {},
   "outputs": [],
   "source": [
    "def evaluate(create_model, load_dataset, n_folds=5):\n",
    "  (x_train, y_train), (x_test, y_test) = load_dataset()\n",
    "  print(x_train.shape, y_train.shape, x_test.shape, y_test.shape)\n",
    "\n",
    "  model = create_model()\n",
    "\n",
    "  return model.fit(\n",
    "      x_train, y_train,\n",
    "      callbacks=[ tf.keras.callbacks.EarlyStopping(\n",
    "          monitor='val_loss',\n",
    "          patience=5,\n",
    "          restore_best_weights=True\n",
    "      ) ],\n",
    "      validation_data=(x_test, y_test),\n",
    "      epochs=10,\n",
    "      batch_size=64\n",
    "  )"
   ]
  },
  {
   "cell_type": "code",
   "execution_count": 4,
   "id": "5384f987",
   "metadata": {},
   "outputs": [
    {
     "name": "stdout",
     "output_type": "stream",
     "text": [
      "(60000, 28, 28, 1) (60000, 10) (10000, 28, 28, 1) (10000, 10)\n",
      "Epoch 1/10\n",
      "938/938 [==============================] - 33s 34ms/step - loss: 0.7759 - accuracy: 0.7200 - f1: 0.7153 - val_loss: 0.3601 - val_accuracy: 0.8715 - val_f1: 0.8690\n",
      "Epoch 2/10\n",
      "938/938 [==============================] - 30s 32ms/step - loss: 0.3757 - accuracy: 0.8622 - f1: 0.8601 - val_loss: 0.3233 - val_accuracy: 0.8792 - val_f1: 0.8779\n",
      "Epoch 3/10\n",
      "938/938 [==============================] - 30s 32ms/step - loss: 0.3318 - accuracy: 0.8781 - f1: 0.8778 - val_loss: 0.2884 - val_accuracy: 0.8931 - val_f1: 0.8935\n",
      "Epoch 4/10\n",
      "938/938 [==============================] - 30s 32ms/step - loss: 0.2983 - accuracy: 0.8909 - f1: 0.8901 - val_loss: 0.2649 - val_accuracy: 0.9039 - val_f1: 0.9044\n",
      "Epoch 5/10\n",
      "938/938 [==============================] - 31s 33ms/step - loss: 0.2829 - accuracy: 0.8968 - f1: 0.8965 - val_loss: 0.2579 - val_accuracy: 0.9069 - val_f1: 0.9046\n",
      "Epoch 6/10\n",
      "938/938 [==============================] - 30s 32ms/step - loss: 0.2650 - accuracy: 0.9022 - f1: 0.9020 - val_loss: 0.2462 - val_accuracy: 0.9094 - val_f1: 0.9097\n",
      "Epoch 7/10\n",
      "938/938 [==============================] - 30s 32ms/step - loss: 0.2455 - accuracy: 0.9102 - f1: 0.9097 - val_loss: 0.2557 - val_accuracy: 0.9076 - val_f1: 0.9065\n",
      "Epoch 8/10\n",
      "938/938 [==============================] - 30s 32ms/step - loss: 0.2374 - accuracy: 0.9106 - f1: 0.9096 - val_loss: 0.2482 - val_accuracy: 0.9089 - val_f1: 0.9091\n",
      "Epoch 9/10\n",
      "938/938 [==============================] - 31s 33ms/step - loss: 0.2304 - accuracy: 0.9134 - f1: 0.9136 - val_loss: 0.2300 - val_accuracy: 0.9156 - val_f1: 0.9155\n",
      "Epoch 10/10\n",
      "938/938 [==============================] - 32s 34ms/step - loss: 0.2169 - accuracy: 0.9186 - f1: 0.9185 - val_loss: 0.2285 - val_accuracy: 0.9148 - val_f1: 0.9140\n"
     ]
    },
    {
     "data": {
      "text/plain": [
       "<tensorflow.python.keras.callbacks.History at 0x198a9dbff10>"
      ]
     },
     "execution_count": 4,
     "metadata": {},
     "output_type": "execute_result"
    }
   ],
   "source": [
    "def define_model():\n",
    "  model = tf.keras.Sequential([\n",
    "      layers.Input((28, 28, 1)),\n",
    "      layers.Conv2D(64, 2, activation='relu', padding='same'),\n",
    "      layers.MaxPool2D(2),\n",
    "      layers.Conv2D(32, 3, activation='relu'),\n",
    "      layers.MaxPool2D(2),\n",
    "      layers.Dropout(0.3),\n",
    "      layers.Flatten(),\n",
    "      layers.Dense(256, activation='relu'),\n",
    "      layers.Dropout(0.5),\n",
    "      layers.Dense(N_CLASSES, activation='softmax'),\n",
    "  ])\n",
    "\n",
    "  model.compile(\n",
    "      optimizer=tf.optimizers.Adam(),\n",
    "      loss=tf.losses.CategoricalCrossentropy(),\n",
    "      metrics=[\n",
    "          'accuracy',\n",
    "          tfa.metrics.F1Score(N_CLASSES, name='f1'),\n",
    "      ],\n",
    "  )\n",
    "  return model\n",
    "\n",
    "evaluate(define_model, load_fashion)"
   ]
  },
  {
   "cell_type": "code",
   "execution_count": 5,
   "id": "a2edd77c",
   "metadata": {},
   "outputs": [
    {
     "name": "stdout",
     "output_type": "stream",
     "text": [
      "(60000, 28, 28, 1) (60000, 10) (10000, 28, 28, 1) (10000, 10)\n",
      "Epoch 1/10\n",
      "938/938 [==============================] - 31s 33ms/step - loss: 0.4803 - accuracy: 0.8445 - f1: 0.8421 - val_loss: 0.0542 - val_accuracy: 0.9834 - val_f1: 0.9833\n",
      "Epoch 2/10\n",
      "938/938 [==============================] - 30s 32ms/step - loss: 0.0898 - accuracy: 0.9716 - f1: 0.9714 - val_loss: 0.0357 - val_accuracy: 0.9878 - val_f1: 0.9877\n",
      "Epoch 3/10\n",
      "938/938 [==============================] - 31s 33ms/step - loss: 0.0681 - accuracy: 0.9784 - f1: 0.9782 - val_loss: 0.0279 - val_accuracy: 0.9906 - val_f1: 0.9905\n",
      "Epoch 4/10\n",
      "938/938 [==============================] - 31s 33ms/step - loss: 0.0591 - accuracy: 0.9810 - f1: 0.9809 - val_loss: 0.0282 - val_accuracy: 0.9906 - val_f1: 0.9906\n",
      "Epoch 5/10\n",
      "938/938 [==============================] - 31s 33ms/step - loss: 0.0510 - accuracy: 0.9838 - f1: 0.9837 - val_loss: 0.0304 - val_accuracy: 0.9902 - val_f1: 0.9901\n",
      "Epoch 6/10\n",
      "938/938 [==============================] - 30s 32ms/step - loss: 0.0442 - accuracy: 0.9864 - f1: 0.9864 - val_loss: 0.0237 - val_accuracy: 0.9921 - val_f1: 0.9920\n",
      "Epoch 7/10\n",
      "938/938 [==============================] - 30s 32ms/step - loss: 0.0393 - accuracy: 0.9871 - f1: 0.9870 - val_loss: 0.0262 - val_accuracy: 0.9914 - val_f1: 0.9913\n",
      "Epoch 8/10\n",
      "938/938 [==============================] - 30s 32ms/step - loss: 0.0361 - accuracy: 0.9886 - f1: 0.9885 - val_loss: 0.0255 - val_accuracy: 0.9921 - val_f1: 0.9920\n",
      "Epoch 9/10\n",
      "938/938 [==============================] - 35s 37ms/step - loss: 0.0324 - accuracy: 0.9892 - f1: 0.9891 - val_loss: 0.0229 - val_accuracy: 0.9917 - val_f1: 0.9916\n",
      "Epoch 10/10\n",
      "938/938 [==============================] - 31s 33ms/step - loss: 0.0328 - accuracy: 0.9896 - f1: 0.9895 - val_loss: 0.0220 - val_accuracy: 0.9930 - val_f1: 0.9930\n"
     ]
    },
    {
     "data": {
      "text/plain": [
       "<tensorflow.python.keras.callbacks.History at 0x198a9f8cb20>"
      ]
     },
     "execution_count": 5,
     "metadata": {},
     "output_type": "execute_result"
    }
   ],
   "source": [
    "evaluate(define_model, load_mnist)"
   ]
  }
 ],
 "metadata": {
  "kernelspec": {
   "display_name": "Python 3",
   "language": "python",
   "name": "python3"
  },
  "language_info": {
   "codemirror_mode": {
    "name": "ipython",
    "version": 3
   },
   "file_extension": ".py",
   "mimetype": "text/x-python",
   "name": "python",
   "nbconvert_exporter": "python",
   "pygments_lexer": "ipython3",
   "version": "3.8.8"
  }
 },
 "nbformat": 4,
 "nbformat_minor": 5
}
