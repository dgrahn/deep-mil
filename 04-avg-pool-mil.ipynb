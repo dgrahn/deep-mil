{
 "cells": [
  {
   "cell_type": "markdown",
   "id": "6b026aa6",
   "metadata": {},
   "source": [
    "# Avg Pool MIL\n",
    "\n",
    "Now we're going to load and train and MIL network on MNIST (presence of 0 = positive bag)."
   ]
  },
  {
   "cell_type": "code",
   "execution_count": null,
   "id": "b76f5ea1",
   "metadata": {},
   "outputs": [],
   "source": [
    "import tensorflow as tf\n",
    "from tensorflow.keras import layers\n",
    "import utils\n",
    "from noisy_and import NoisyAnd\n",
    "import mil_benchmarks\n",
    "\n",
    "N_CLASSES = 2\n",
    "MAX_BAG = 7\n",
    "\n",
    "utils.gpu_fix()\n",
    "\n",
    "tf.random.set_seed(42)\n",
    "print(tf.__version__)"
   ]
  },
  {
   "cell_type": "code",
   "execution_count": null,
   "id": "92d8f05d",
   "metadata": {},
   "outputs": [],
   "source": [
    "def define_model(shape=(28, 28, 1)):\n",
    "  model = tf.keras.Sequential([\n",
    "    layers.Input((MAX_BAG,) + shape),\n",
    "    *utils.baseline_layers(shape, N_CLASSES),\n",
    "    layers.AvgPool1D(MAX_BAG),\n",
    "    layers.Flatten(),\n",
    "    layers.Dense(N_CLASSES, activation='softmax')\n",
    "  ])\n",
    "\n",
    "  utils.compile(model, N_CLASSES)\n",
    "  return model\n",
    "\n",
    "print(define_model().summary())"
   ]
  },
  {
   "cell_type": "code",
   "execution_count": null,
   "id": "3a9e5e9f",
   "metadata": {},
   "outputs": [],
   "source": [
    "standard_mnist = utils.evaluate_all(define_model, 'Avg Pool + FC', mil_benchmarks.standard.mnist)\n",
    "utils.plot_histories(standard_mnist, title='Avg Pool + FC / Standard MNIST', filename='img/avgpool-standard-mnist.jpg')"
   ]
  },
  {
   "cell_type": "code",
   "execution_count": null,
   "id": "ee609c5a-5907-4d9c-a050-513a0d36e02b",
   "metadata": {},
   "outputs": [],
   "source": [
    "standard_fashion = utils.evaluate_all(define_model, 'Avg Pool + FC', mil_benchmarks.standard.fashion)\n",
    "utils.plot_histories(standard_fashion, title='Avg Pool + FC / Standard Fashion', filename='img/avgpool-standard-fashion.jpg')"
   ]
  },
  {
   "cell_type": "code",
   "execution_count": null,
   "id": "147d617f-b2eb-4226-8fad-ab3668a246cc",
   "metadata": {},
   "outputs": [],
   "source": [
    "standard_cifar10 = utils.evaluate_all(define_model, 'Avg Pool + FC', mil_benchmarks.standard.cifar10, (32, 32, 3))\n",
    "utils.plot_histories(standard_cifar10, title='Avg Pool + FC / Standard CIFAR-10', filename='img/avgpool-standard-cifar10.jpg')"
   ]
  },
  {
   "cell_type": "code",
   "execution_count": null,
   "id": "2ac24b9e",
   "metadata": {},
   "outputs": [],
   "source": [
    "presence_mnist = utils.evaluate_all(define_model, 'Avg Pool + FC', mil_benchmarks.presence.mnist)\n",
    "utils.plot_histories(presence_mnist, title='Avg Pool + FC / Presence MNIST', filename='img/avgpool-presence-mnist.jpg')"
   ]
  },
  {
   "cell_type": "code",
   "execution_count": null,
   "id": "0d9c7537-6a4f-4380-8fdc-20b40d764e0f",
   "metadata": {},
   "outputs": [],
   "source": [
    "presence_fashion = utils.evaluate_all(define_model, 'Avg Pool + FC', mil_benchmarks.presence.fashion)\n",
    "utils.plot_histories(presence_fashion, title='Avg Pool + FC / Presence Fashion', filename='img/avgpool-presence-fashion.jpg')"
   ]
  },
  {
   "cell_type": "code",
   "execution_count": null,
   "id": "ee17b6f7-4b7e-43bc-9379-548d146854e5",
   "metadata": {},
   "outputs": [],
   "source": [
    "presence_cifar10 = utils.evaluate_all(define_model, 'Avg Pool + FC', mil_benchmarks.presence.cifar10, (32, 32, 3))\n",
    "utils.plot_histories(presence_cifar10, title='Avg Pool + FC / Presence CIFAR-10', filename='img/avgpool-presence-cifar10.jpg')"
   ]
  },
  {
   "cell_type": "code",
   "execution_count": null,
   "id": "611f10ca",
   "metadata": {},
   "outputs": [],
   "source": [
    "absence_mnist = utils.evaluate_all(define_model, 'Avg Pool + FC', mil_benchmarks.absence.mnist)\n",
    "utils.plot_histories(absence_mnist, title='Avg Pool + FC / Absence MNIST', filename='img/avgpool-absence-mnist.jpg')"
   ]
  },
  {
   "cell_type": "code",
   "execution_count": null,
   "id": "c6cabd11-89d5-4b21-ad2b-410bae6f9874",
   "metadata": {},
   "outputs": [],
   "source": [
    "absence_fashion = utils.evaluate_all(define_model, 'Avg Pool + FC', mil_benchmarks.absence.fashion)\n",
    "utils.plot_histories(absence_fashion, title='Avg Pool + FC / Absence Fashion', filename='img/avgpool-absence-fashion.jpg')"
   ]
  },
  {
   "cell_type": "code",
   "execution_count": null,
   "id": "5e85ec7a-62f4-4972-8df6-7d1fd1db570d",
   "metadata": {},
   "outputs": [],
   "source": [
    "absence_cifar10 = utils.evaluate_all(define_model, 'Avg Pool + FC', mil_benchmarks.absence.cifar10, (32, 32, 3))\n",
    "utils.plot_histories(absence_cifar10, title='Avg Pool + FC / Absence CIFAR-10', filename='img/avgpool-absence-cifar10.jpg')"
   ]
  },
  {
   "cell_type": "code",
   "execution_count": null,
   "id": "f5079b54-d436-49fc-ab61-d4f84a0e1cd0",
   "metadata": {},
   "outputs": [],
   "source": [
    "complex_fashion = utils.evaluate_all(define_model, 'Avg Pool + FC', mil_benchmarks.complex.fashion)\n",
    "utils.plot_histories(complex_fashion, title='Avg Pool + FC / Complex Fashion', filename='img/avgpool-complex-fashion.jpg')"
   ]
  }
 ],
 "metadata": {
  "kernelspec": {
   "display_name": "Python 3",
   "language": "python",
   "name": "python3"
  },
  "language_info": {
   "codemirror_mode": {
    "name": "ipython",
    "version": 3
   },
   "file_extension": ".py",
   "mimetype": "text/x-python",
   "name": "python",
   "nbconvert_exporter": "python",
   "pygments_lexer": "ipython3",
   "version": "3.8.8"
  }
 },
 "nbformat": 4,
 "nbformat_minor": 5
}
