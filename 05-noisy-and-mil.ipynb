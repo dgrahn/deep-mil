{
 "cells": [
  {
   "cell_type": "markdown",
   "id": "c3650463",
   "metadata": {},
   "source": [
    "# Noisy-And MIL\n",
    "\n",
    "Now we're going to load and train and MIL network on MNIST (presence of 0 = positive bag)."
   ]
  },
  {
   "cell_type": "code",
   "execution_count": null,
   "id": "882de311",
   "metadata": {},
   "outputs": [],
   "source": [
    "import tensorflow as tf\n",
    "from tensorflow.keras import layers\n",
    "import utils\n",
    "from noisy_and import NoisyAnd\n",
    "import mil_benchmarks\n",
    "\n",
    "N_CLASSES = 2\n",
    "MAX_BAG = 7\n",
    "\n",
    "utils.gpu_fix()\n",
    "\n",
    "tf.random.set_seed(42)\n",
    "print(tf.__version__)"
   ]
  },
  {
   "cell_type": "code",
   "execution_count": null,
   "id": "79f6f25b",
   "metadata": {},
   "outputs": [],
   "source": [
    "def define_model(shape=(28, 28, 1)):\n",
    "  model = tf.keras.Sequential([\n",
    "    layers.Input((MAX_BAG,) + shape),\n",
    "    *utils.baseline_layers(shape, N_CLASSES),\n",
    "    NoisyAnd(N_CLASSES),\n",
    "  ])\n",
    "\n",
    "  utils.compile(model, N_CLASSES)\n",
    "  return model\n",
    "\n",
    "print(define_model().summary())"
   ]
  },
  {
   "cell_type": "code",
   "execution_count": null,
   "id": "2e698ab1-9e33-4823-bb9f-26359e6e7840",
   "metadata": {
    "tags": []
   },
   "outputs": [],
   "source": [
    "standard_mnist = utils.evaluate_all(define_model, 'Noisy-And', mil_benchmarks.standard.mnist)\n",
    "utils.plot_histories(standard_mnist, title='Noisy-And / Standard Fashion', filename='img/noisyand-standard-mnist.jpg')"
   ]
  },
  {
   "cell_type": "code",
   "execution_count": null,
   "id": "e0f9bbd0-25b6-41c5-a1ec-54cfd8d3f168",
   "metadata": {
    "tags": []
   },
   "outputs": [],
   "source": [
    "standard_fashion = utils.evaluate_all(define_model, 'Noisy-And', mil_benchmarks.standard.fashion)\n",
    "utils.plot_histories(standard_fashion, title='Noisy-And / Standard Fashion', filename='img/noisyand-standard-fashion.jpg')"
   ]
  },
  {
   "cell_type": "code",
   "execution_count": null,
   "id": "7baa2ec9-9f98-4779-be1c-0f82078f47a5",
   "metadata": {},
   "outputs": [],
   "source": [
    "standard_cifar10 = utils.evaluate_all(define_model, 'Noisy-And', mil_benchmarks.standard.cifar10, (32, 32, 3))\n",
    "utils.plot_histories(standard_cifar10, title='Noisy-And / Standard CIFAR-10', filename='img/noisyand-standard-cifar10.jpg')"
   ]
  },
  {
   "cell_type": "code",
   "execution_count": null,
   "id": "e1dd33a1",
   "metadata": {},
   "outputs": [],
   "source": [
    "presence_mnist = utils.evaluate_all(define_model, 'Noisy-And', mil_benchmarks.presence.mnist)\n",
    "utils.plot_histories(presence_mnist, title='Noisy-And / Presence MNIST', filename='img/noisyand-presence-mnist.jpg')"
   ]
  },
  {
   "cell_type": "code",
   "execution_count": null,
   "id": "2421ec3c-02b1-4359-803c-880d3e240cbc",
   "metadata": {},
   "outputs": [],
   "source": [
    "presence_fashion = utils.evaluate_all(define_model, 'Noisy-And', mil_benchmarks.presence.fashion)\n",
    "utils.plot_histories(presence_fashion, title='Noisy-And / Presence Fashion', filename='img/noisyand-presence-fashion.jpg')"
   ]
  },
  {
   "cell_type": "code",
   "execution_count": null,
   "id": "9213c6b6-cabd-4f44-b849-84621f774ff7",
   "metadata": {},
   "outputs": [],
   "source": [
    "presence_cifar10 = utils.evaluate_all(define_model, 'Noisy-And', mil_benchmarks.presence.cifar10, (32, 32, 3))\n",
    "utils.plot_histories(presence_cifar10, title='Noisy-And / Presence CIFAR-10', filename='img/noisyand-presence-cifar10.jpg')"
   ]
  },
  {
   "cell_type": "code",
   "execution_count": null,
   "id": "5df9b6c7-0932-4d5e-992e-a79d59ad1258",
   "metadata": {},
   "outputs": [],
   "source": [
    "absence_mnist = utils.evaluate_all(define_model, 'Noisy-And', mil_benchmarks.absence.mnist)\n",
    "utils.plot_histories(absence_mnist, title='Noisy-And / Absence MNIST', filename='img/noisyand-absence-mnist.jpg')"
   ]
  },
  {
   "cell_type": "code",
   "execution_count": null,
   "id": "c85130b7-211f-4318-971b-f85a35b43a13",
   "metadata": {},
   "outputs": [],
   "source": [
    "absence_fashion = utils.evaluate_all(define_model, 'Noisy-And', mil_benchmarks.absence.fashion)\n",
    "utils.plot_histories(absence_fashion, title='Noisy-And / Absence Fashion', filename='img/noisyand-absence-fashion.jpg')"
   ]
  },
  {
   "cell_type": "code",
   "execution_count": null,
   "id": "e73249be-2446-4b54-b6e4-8976cd47bae6",
   "metadata": {},
   "outputs": [],
   "source": [
    "absence_cifar10 = utils.evaluate_all(define_model, 'Noisy-And', mil_benchmarks.absence.cifar10, (32, 32, 3))\n",
    "utils.plot_histories(absence_cifar10, title='Noisy-And / Absence CIFAR-10', filename='img/noisyand-absence-cifar10.jpg')"
   ]
  },
  {
   "cell_type": "code",
   "execution_count": null,
   "id": "a6c9801c-9f90-4ffd-b91f-767da8e58266",
   "metadata": {},
   "outputs": [],
   "source": [
    "complex_fashion = utils.evaluate_all(define_model, 'Noisy-And', mil_benchmarks.complex.fashion)\n",
    "utils.plot_histories(complex_fashion, title='Noisy-And / Complex Fashion', filename='img/noisyand-complex-fashion.jpg')"
   ]
  }
 ],
 "metadata": {
  "kernelspec": {
   "display_name": "Python 3",
   "language": "python",
   "name": "python3"
  },
  "language_info": {
   "codemirror_mode": {
    "name": "ipython",
    "version": 3
   },
   "file_extension": ".py",
   "mimetype": "text/x-python",
   "name": "python",
   "nbconvert_exporter": "python",
   "pygments_lexer": "ipython3",
   "version": "3.8.8"
  }
 },
 "nbformat": 4,
 "nbformat_minor": 5
}
