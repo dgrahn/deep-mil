{
 "cells": [
  {
   "cell_type": "markdown",
   "id": "c6e02daa",
   "metadata": {},
   "source": [
    "# Noisy-And and Noisy Data MIL"
   ]
  },
  {
   "cell_type": "code",
   "execution_count": null,
   "id": "4ecc4b65",
   "metadata": {},
   "outputs": [],
   "source": [
    "import tensorflow as tf\n",
    "from tensorflow.keras import layers\n",
    "import utils\n",
    "from noisy_and import NoisyAnd\n",
    "import mil_benchmarks\n",
    "\n",
    "N_CLASSES = 2\n",
    "MAX_BAG = 7\n",
    "\n",
    "utils.gpu_fix()\n",
    "\n",
    "tf.random.set_seed(42)\n",
    "print(tf.__version__)"
   ]
  },
  {
   "cell_type": "code",
   "execution_count": null,
   "id": "d96896cb-0f5e-40bd-a789-162ff21cecfa",
   "metadata": {},
   "outputs": [],
   "source": [
    "def define_model(shape=(28, 28, 1)):\n",
    "  model = tf.keras.Sequential([\n",
    "    layers.Input((MAX_BAG,) + shape),\n",
    "    *utils.baseline_layers(shape, N_CLASSES),\n",
    "    NoisyAnd(N_CLASSES),\n",
    "  ])\n",
    "\n",
    "  utils.compile(model, N_CLASSES)\n",
    "  return model\n",
    "\n",
    "print(define_model().summary())"
   ]
  },
  {
   "cell_type": "code",
   "execution_count": null,
   "id": "e8d2f6ed",
   "metadata": {},
   "outputs": [],
   "source": [
    "def eval_noise(dataset, input_shape):\n",
    "  histories = []\n",
    "\n",
    "  for i in range(10):\n",
    "    noise = i / 20\n",
    "    print(f'Noise: {noise:.2f}')\n",
    "    history = utils.evaluate(define_model(input_shape), utils.preprocess(dataset, noise=noise))\n",
    "    histories.append(history)\n",
    "  \n",
    "  return histories\n",
    "\n",
    "cifar_histories = eval_noise(mil_benchmarks.standard.cifar10.load_0(onehot=False), (32, 32, 3))"
   ]
  },
  {
   "cell_type": "code",
   "execution_count": null,
   "id": "1a7cf673-e347-4f44-970c-fe17c51fcd0f",
   "metadata": {},
   "outputs": [],
   "source": [
    "mnist_histories = eval_noise(mil_benchmarks.standard.mnist.load_0(onehot=False), (28, 28, 1))"
   ]
  },
  {
   "cell_type": "code",
   "execution_count": null,
   "id": "5ca247fe-3647-4f89-b4ee-403bddcd19a4",
   "metadata": {},
   "outputs": [],
   "source": [
    "import matplotlib.pyplot as plt\n",
    "import numpy as np\n",
    "\n",
    "noises = np.arange(10) / 20\n",
    "\n",
    "def get_val(hists, k):\n",
    "  return np.max([np.vstack(h.history[k]).mean(axis=1) for h in hists], axis=1)\n",
    "\n",
    "fig, axes = plt.subplots(nrows=1, ncols=2, figsize=(8, 4))\n",
    "\n",
    "axes[0].set_title('MNIST (Class 0)')\n",
    "axes[0].plot(noises, get_val(mnist_histories, 'auc'))\n",
    "axes[0].plot(noises, get_val(mnist_histories, 'val_auc'))\n",
    "axes[0].set_xticks(noises)\n",
    "axes[0].legend(['Train', 'Test'])\n",
    "axes[0].tick_params(axis='x', labelrotation=45)\n",
    "\n",
    "axes[1].plot(noises, get_val(cifar_histories, 'auc'))\n",
    "axes[1].plot(noises, get_val(cifar_histories, 'val_auc'))\n",
    "axes[1].legend(['Train', 'Test'])\n",
    "axes[1].set_xticks(noises)\n",
    "axes[1].set_title('CIFAR-10 (Class 5)')\n",
    "axes[1].tick_params(axis='x', labelrotation=45)\n",
    "\n",
    "plt.savefig('img/noisy-data.jpg', dpi=250)\n",
    "plt.show()\n",
    "plt.close()"
   ]
  }
 ],
 "metadata": {
  "kernelspec": {
   "display_name": "Python 3",
   "language": "python",
   "name": "python3"
  },
  "language_info": {
   "codemirror_mode": {
    "name": "ipython",
    "version": 3
   },
   "file_extension": ".py",
   "mimetype": "text/x-python",
   "name": "python",
   "nbconvert_exporter": "python",
   "pygments_lexer": "ipython3",
   "version": "3.8.8"
  }
 },
 "nbformat": 4,
 "nbformat_minor": 5
}
